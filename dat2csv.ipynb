{
 "cells": [
  {
   "cell_type": "code",
   "execution_count": 3,
   "id": "9f75a332-2a6e-4c06-adc3-1e2eea0fcf77",
   "metadata": {
    "tags": []
   },
   "outputs": [],
   "source": [
    "# !pip install -r requirements.txt"
   ]
  },
  {
   "cell_type": "code",
   "execution_count": null,
   "id": "cddb2836-2ebc-460f-a484-2678ab8ddf42",
   "metadata": {
    "tags": []
   },
   "outputs": [],
   "source": [
    "# QtWidgets.QLabel(\"Conversion Options:\")\n",
    "\n",
    "# grid = QtWidgets.QGridLayout()\n",
    "# grid.addWidget(options_label, 0, 0, 1, 2)\n",
    "# grid.addWidget(average_rows, 1, 0)\n",
    "# grid.addWidget(average_rows_spin, 1, 1)\n",
    "# grid.addWidget(set_rounding, 2, 0)\n",
    "# grid.addWidget(rounding_spin, 2, 1)\n",
    "# grid.addWidget(multi, 3, 0)\n",
    "# grid.addWidget(multi_spin, 3, 1)\n",
    "# grid.addWidget(run, 4, 0, 1, 2)\n",
    "# grid.addWidget(progress, 5, 0, 1, 2)"
   ]
  },
  {
   "cell_type": "code",
   "execution_count": 1,
   "id": "41896e65-5fa2-48f0-a2f0-539a17705ba3",
   "metadata": {
    "tags": []
   },
   "outputs": [],
   "source": [
    "rows_to_average = 1  # 1 or None\n",
    "decimal_places = 8 #default"
   ]
  },
  {
   "cell_type": "code",
   "execution_count": 2,
   "id": "d465ec5c-4fbb-4a81-af16-a8982c07b1af",
   "metadata": {
    "tags": []
   },
   "outputs": [],
   "source": [
    "from transcriber.dbf.parser import Parser\n",
    "parser =  Parser([\"Tagname\"])"
   ]
  },
  {
   "cell_type": "code",
   "execution_count": 3,
   "id": "ab064bb1-fe18-4013-a591-4be03cd0f69c",
   "metadata": {
    "tags": []
   },
   "outputs": [],
   "source": [
    "filename = \"2023 03 16 0000 (Tagname).DAT\""
   ]
  },
  {
   "cell_type": "code",
   "execution_count": 4,
   "id": "dcf0c5bf-f4b9-4b06-8601-e99d49a8c856",
   "metadata": {
    "tags": []
   },
   "outputs": [],
   "source": [
    "tag_lookup = [ r[\"Tagname\"].decode().strip()\n",
    "                for r in parser.parse_all(filename)\n",
    "            ]"
   ]
  },
  {
   "cell_type": "code",
   "execution_count": 5,
   "id": "7beb697a-e4a4-44f0-b167-b98eefc534d5",
   "metadata": {
    "tags": []
   },
   "outputs": [],
   "source": [
    "tags = ['[IFSG]LIT11104.VALUE', '[IFSG]PIT10003.VALUE', '[IFSG]FIT10221.VALUE']"
   ]
  },
  {
   "cell_type": "code",
   "execution_count": 6,
   "id": "2d4e014e-df09-4f2e-9012-4c9133f20a09",
   "metadata": {
    "tags": []
   },
   "outputs": [],
   "source": [
    "required_tag_indices = [\n",
    "            tag_lookup.index(t) for t in tags\n",
    "        ]"
   ]
  },
  {
   "cell_type": "code",
   "execution_count": 7,
   "id": "5a316452-ad96-4464-a701-8d7b8bb08601",
   "metadata": {
    "tags": []
   },
   "outputs": [],
   "source": [
    "total_tags = len(tag_lookup)"
   ]
  },
  {
   "cell_type": "code",
   "execution_count": null,
   "id": "8e0280ab-ae58-4f41-9fd8-60612b8332fa",
   "metadata": {},
   "outputs": [],
   "source": []
  },
  {
   "cell_type": "code",
   "execution_count": null,
   "id": "65bb3085-ce7d-421f-ab7a-8eefbe292042",
   "metadata": {},
   "outputs": [],
   "source": []
  },
  {
   "cell_type": "code",
   "execution_count": 8,
   "id": "ab0c2ad4-5755-4ea2-9227-dec45989c68e",
   "metadata": {
    "tags": []
   },
   "outputs": [],
   "source": [
    "from transcriber.dbf.parser import Parser"
   ]
  },
  {
   "cell_type": "code",
   "execution_count": 9,
   "id": "4e137a74-6e0d-44ed-8a9f-9225a533938d",
   "metadata": {
    "tags": []
   },
   "outputs": [],
   "source": [
    "parser = Parser(required_fields=[\"Date\", \"Time\", \"Value\"])"
   ]
  },
  {
   "cell_type": "code",
   "execution_count": 11,
   "id": "fd6748df-df87-4680-9389-c95797779644",
   "metadata": {
    "tags": []
   },
   "outputs": [],
   "source": [
    "filename = \"2023 03 16 0000 (Float).DAT\"\n",
    "table = parser.parse_selection(\n",
    "            filename, required_tag_indices, total_tags\n",
    "        )\n"
   ]
  },
  {
   "cell_type": "code",
   "execution_count": 13,
   "id": "e9e5d350-bcdc-46e5-864f-410e7c6cc866",
   "metadata": {
    "tags": []
   },
   "outputs": [],
   "source": [
    "from transcriber.converter.dbfworker import utils"
   ]
  },
  {
   "cell_type": "code",
   "execution_count": 15,
   "id": "408335fe-976e-42f5-9c92-278f63c84054",
   "metadata": {
    "tags": []
   },
   "outputs": [],
   "source": [
    "csv_contents = utils.generate_csv(\n",
    "            table, tags, tag_lookup, decimal_places\n",
    "        )"
   ]
  },
  {
   "cell_type": "code",
   "execution_count": 16,
   "id": "5658fe08-753a-45a1-9b48-a755ce5510bc",
   "metadata": {
    "tags": []
   },
   "outputs": [],
   "source": [
    "        \n",
    "with open(utils.transcribed_filename(filename), \"w\") as csv_file:\n",
    "    utils.write_csv(\n",
    "        csv_file,\n",
    "        csv_contents\n",
    "        if rows_to_average is None\n",
    "        else utils.average_rows(\n",
    "            csv_contents, rows_to_average, decimal_places\n",
    "        ),\n",
    "    )\n"
   ]
  },
  {
   "cell_type": "code",
   "execution_count": null,
   "id": "1c038b2f-9551-47b8-b2b5-b48e7228449c",
   "metadata": {},
   "outputs": [],
   "source": []
  }
 ],
 "metadata": {
  "kernelspec": {
   "display_name": "conda_python3",
   "language": "python",
   "name": "conda_python3"
  },
  "language_info": {
   "codemirror_mode": {
    "name": "ipython",
    "version": 3
   },
   "file_extension": ".py",
   "mimetype": "text/x-python",
   "name": "python",
   "nbconvert_exporter": "python",
   "pygments_lexer": "ipython3",
   "version": "3.10.13"
  }
 },
 "nbformat": 4,
 "nbformat_minor": 5
}
